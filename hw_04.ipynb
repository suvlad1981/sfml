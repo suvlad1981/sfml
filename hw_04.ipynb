{
 "cells": [
  {
   "cell_type": "markdown",
   "metadata": {
    "toc": "true"
   },
   "source": [
    "# Table of Contents\n",
    " <p><div class=\"lev1 toc-item\"><a href=\"#Skillfactory---Практический-Machine-Learning\" data-toc-modified-id=\"Skillfactory---Практический-Machine-Learning-1\"><span class=\"toc-item-num\">1&nbsp;&nbsp;</span>Skillfactory - Практический Machine Learning</a></div><div class=\"lev2 toc-item\"><a href=\"#15/02/2018---Практика-с-линейной-регрессией\" data-toc-modified-id=\"15/02/2018---Практика-с-линейной-регрессией-11\"><span class=\"toc-item-num\">1.1&nbsp;&nbsp;</span>15/02/2018 - Практика с линейной регрессией</a></div><div class=\"lev2 toc-item\"><a href=\"#Описание-набора-данных:\" data-toc-modified-id=\"Описание-набора-данных:-12\"><span class=\"toc-item-num\">1.2&nbsp;&nbsp;</span>Описание набора данных:</a></div><div class=\"lev3 toc-item\"><a href=\"#Переменные:\" data-toc-modified-id=\"Переменные:-121\"><span class=\"toc-item-num\">1.2.1&nbsp;&nbsp;</span>Переменные:</a></div><div class=\"lev3 toc-item\"><a href=\"#Постановка-задачи:-\" data-toc-modified-id=\"Постановка-задачи:--122\"><span class=\"toc-item-num\">1.2.2&nbsp;&nbsp;</span>Постановка задачи: <br></a></div><div class=\"lev3 toc-item\"><a href=\"#Предобработка-данных:\" data-toc-modified-id=\"Предобработка-данных:-123\"><span class=\"toc-item-num\">1.2.3&nbsp;&nbsp;</span>Предобработка данных:</a></div><div class=\"lev3 toc-item\"><a href=\"#Первичный-анализ-признаков:\" data-toc-modified-id=\"Первичный-анализ-признаков:-124\"><span class=\"toc-item-num\">1.2.4&nbsp;&nbsp;</span>Первичный анализ признаков:</a></div><div class=\"lev4 toc-item\"><a href=\"#Вещественные-признаки\" data-toc-modified-id=\"Вещественные-признаки-1241\"><span class=\"toc-item-num\">1.2.4.1&nbsp;&nbsp;</span>Вещественные признаки</a></div><div class=\"lev4 toc-item\"><a href=\"#Категориальные-признаки\" data-toc-modified-id=\"Категориальные-признаки-1242\"><span class=\"toc-item-num\">1.2.4.2&nbsp;&nbsp;</span>Категориальные признаки</a></div><div class=\"lev4 toc-item\"><a href=\"#Анализ-линейных-зависимостей-в-данных\" data-toc-modified-id=\"Анализ-линейных-зависимостей-в-данных-1243\"><span class=\"toc-item-num\">1.2.4.3&nbsp;&nbsp;</span>Анализ линейных зависимостей в данных</a></div><div class=\"lev4 toc-item\"><a href=\"#Распределение-некоторых-признаков\" data-toc-modified-id=\"Распределение-некоторых-признаков-1244\"><span class=\"toc-item-num\">1.2.4.4&nbsp;&nbsp;</span>Распределение некоторых признаков</a></div><div class=\"lev4 toc-item\"><a href=\"#Парные-распределения-с-целевыми-признаками\" data-toc-modified-id=\"Парные-распределения-с-целевыми-признаками-1245\"><span class=\"toc-item-num\">1.2.4.5&nbsp;&nbsp;</span>Парные распределения с целевыми признаками</a></div><div class=\"lev1 toc-item\"><a href=\"#Getting-hands-dirty\" data-toc-modified-id=\"Getting-hands-dirty-2\"><span class=\"toc-item-num\">2&nbsp;&nbsp;</span>Getting hands dirty</a></div><div class=\"lev3 toc-item\"><a href=\"#Задание-(0.25)\" data-toc-modified-id=\"Задание-(0.25)-201\"><span class=\"toc-item-num\">2.0.1&nbsp;&nbsp;</span>Задание (0.25)</a></div><div class=\"lev3 toc-item\"><a href=\"#Задание-(0.25)\" data-toc-modified-id=\"Задание-(0.25)-202\"><span class=\"toc-item-num\">2.0.2&nbsp;&nbsp;</span>Задание (0.25)</a></div><div class=\"lev2 toc-item\"><a href=\"#Baseline-modelling\" data-toc-modified-id=\"Baseline-modelling-21\"><span class=\"toc-item-num\">2.1&nbsp;&nbsp;</span>Baseline modelling</a></div><div class=\"lev3 toc-item\"><a href=\"#Задание-(0.10)\" data-toc-modified-id=\"Задание-(0.10)-211\"><span class=\"toc-item-num\">2.1.1&nbsp;&nbsp;</span>Задание (0.10)</a></div><div class=\"lev3 toc-item\"><a href=\"#Задание-(0.15)\" data-toc-modified-id=\"Задание-(0.15)-212\"><span class=\"toc-item-num\">2.1.2&nbsp;&nbsp;</span>Задание (0.15)</a></div><div class=\"lev3 toc-item\"><a href=\"#Задание-(0.25)\" data-toc-modified-id=\"Задание-(0.25)-213\"><span class=\"toc-item-num\">2.1.3&nbsp;&nbsp;</span>Задание (0.25)</a></div>"
   ]
  },
  {
   "cell_type": "markdown",
   "metadata": {},
   "source": [
    "# Skillfactory - Практический Machine Learning\n",
    "## 15/02/2018 - Практика с линейной регрессией\n",
    "\n",
    "<center> Шестаков Андрей </center>"
   ]
  },
  {
   "cell_type": "markdown",
   "metadata": {},
   "source": [
    "Данные: <a href=\"https://www.kaggle.com/c/bike-sharing-demand\">Bike Sharing Demand</a>.\n"
   ]
  },
  {
   "cell_type": "code",
   "execution_count": 126,
   "metadata": {},
   "outputs": [],
   "source": [
    "import seaborn as sns\n",
    "import datetime as dt\n",
    "import pandas as pd\n",
    "import numpy as np\n",
    "import matplotlib.pyplot as plt\n",
    "import math\n",
    "from sklearn.preprocessing import OneHotEncoder\n",
    "import warnings\n",
    "warnings.simplefilter('ignore')\n",
    "\n",
    "%matplotlib inline"
   ]
  },
  {
   "cell_type": "code",
   "execution_count": 127,
   "metadata": {},
   "outputs": [
    {
     "data": {
      "text/html": [
       "<div>\n",
       "<style scoped>\n",
       "    .dataframe tbody tr th:only-of-type {\n",
       "        vertical-align: middle;\n",
       "    }\n",
       "\n",
       "    .dataframe tbody tr th {\n",
       "        vertical-align: top;\n",
       "    }\n",
       "\n",
       "    .dataframe thead th {\n",
       "        text-align: right;\n",
       "    }\n",
       "</style>\n",
       "<table border=\"1\" class=\"dataframe\">\n",
       "  <thead>\n",
       "    <tr style=\"text-align: right;\">\n",
       "      <th></th>\n",
       "      <th>datetime</th>\n",
       "      <th>season</th>\n",
       "      <th>holiday</th>\n",
       "      <th>workingday</th>\n",
       "      <th>weather</th>\n",
       "      <th>temp</th>\n",
       "      <th>atemp</th>\n",
       "      <th>humidity</th>\n",
       "      <th>windspeed</th>\n",
       "      <th>casual</th>\n",
       "      <th>registered</th>\n",
       "      <th>count</th>\n",
       "    </tr>\n",
       "  </thead>\n",
       "  <tbody>\n",
       "    <tr>\n",
       "      <th>0</th>\n",
       "      <td>2011-01-01 00:00:00</td>\n",
       "      <td>1</td>\n",
       "      <td>0</td>\n",
       "      <td>0</td>\n",
       "      <td>1</td>\n",
       "      <td>9.84</td>\n",
       "      <td>14.395</td>\n",
       "      <td>81</td>\n",
       "      <td>0.0</td>\n",
       "      <td>3</td>\n",
       "      <td>13</td>\n",
       "      <td>16</td>\n",
       "    </tr>\n",
       "    <tr>\n",
       "      <th>1</th>\n",
       "      <td>2011-01-01 01:00:00</td>\n",
       "      <td>1</td>\n",
       "      <td>0</td>\n",
       "      <td>0</td>\n",
       "      <td>1</td>\n",
       "      <td>9.02</td>\n",
       "      <td>13.635</td>\n",
       "      <td>80</td>\n",
       "      <td>0.0</td>\n",
       "      <td>8</td>\n",
       "      <td>32</td>\n",
       "      <td>40</td>\n",
       "    </tr>\n",
       "    <tr>\n",
       "      <th>2</th>\n",
       "      <td>2011-01-01 02:00:00</td>\n",
       "      <td>1</td>\n",
       "      <td>0</td>\n",
       "      <td>0</td>\n",
       "      <td>1</td>\n",
       "      <td>9.02</td>\n",
       "      <td>13.635</td>\n",
       "      <td>80</td>\n",
       "      <td>0.0</td>\n",
       "      <td>5</td>\n",
       "      <td>27</td>\n",
       "      <td>32</td>\n",
       "    </tr>\n",
       "    <tr>\n",
       "      <th>3</th>\n",
       "      <td>2011-01-01 03:00:00</td>\n",
       "      <td>1</td>\n",
       "      <td>0</td>\n",
       "      <td>0</td>\n",
       "      <td>1</td>\n",
       "      <td>9.84</td>\n",
       "      <td>14.395</td>\n",
       "      <td>75</td>\n",
       "      <td>0.0</td>\n",
       "      <td>3</td>\n",
       "      <td>10</td>\n",
       "      <td>13</td>\n",
       "    </tr>\n",
       "    <tr>\n",
       "      <th>4</th>\n",
       "      <td>2011-01-01 04:00:00</td>\n",
       "      <td>1</td>\n",
       "      <td>0</td>\n",
       "      <td>0</td>\n",
       "      <td>1</td>\n",
       "      <td>9.84</td>\n",
       "      <td>14.395</td>\n",
       "      <td>75</td>\n",
       "      <td>0.0</td>\n",
       "      <td>0</td>\n",
       "      <td>1</td>\n",
       "      <td>1</td>\n",
       "    </tr>\n",
       "  </tbody>\n",
       "</table>\n",
       "</div>"
      ],
      "text/plain": [
       "              datetime  season  holiday  workingday  weather  temp   atemp  \\\n",
       "0  2011-01-01 00:00:00       1        0           0        1  9.84  14.395   \n",
       "1  2011-01-01 01:00:00       1        0           0        1  9.02  13.635   \n",
       "2  2011-01-01 02:00:00       1        0           0        1  9.02  13.635   \n",
       "3  2011-01-01 03:00:00       1        0           0        1  9.84  14.395   \n",
       "4  2011-01-01 04:00:00       1        0           0        1  9.84  14.395   \n",
       "\n",
       "   humidity  windspeed  casual  registered  count  \n",
       "0        81        0.0       3          13     16  \n",
       "1        80        0.0       8          32     40  \n",
       "2        80        0.0       5          27     32  \n",
       "3        75        0.0       3          10     13  \n",
       "4        75        0.0       0           1      1  "
      ]
     },
     "execution_count": 127,
     "metadata": {},
     "output_type": "execute_result"
    }
   ],
   "source": [
    "df = pd.read_csv('train_bikes.csv')\n",
    "\n",
    "df.head()"
   ]
  },
  {
   "cell_type": "markdown",
   "metadata": {},
   "source": [
    "## Описание набора данных:\n",
    "Набор данных предоставляет информацию о почасовой аренде велосипедов в течение двух лет в Вашингтоне, округ Колумбия. Для аренды использовались специальные киоски, которые давали возможность случайным прохожим и постоянным клиентам(имеющим регистрацию) взять велосипед на прокат. Данный процесс автоматизирован.\n",
    "\n",
    "Данные в тренеровочной выборке собраны за 2 года с 1 по 19 число каждого месяца. В конечном счете требуется предсказать спрос на остальные дни месяца."
   ]
  },
  {
   "cell_type": "markdown",
   "metadata": {},
   "source": [
    "### Переменные:\n",
    "- *datatime:* метка времени + дата, к который относится каждый час суток\n",
    "- *season:* сезон\n",
    "  1. весна\n",
    "  2. лето\n",
    "  3. осень\n",
    "  4. зима\n",
    "  \n",
    "  \n",
    "- *holiday:* считается ли день праздником. В исходных данных \n",
    "  0. нет\n",
    "  1. да\n",
    "  \n",
    "  \n",
    "- *weather:* погода\n",
    "\n",
    "  1. ясно, небольшая облачность, частичная облачность\n",
    "  2. туман + облачность, туман + разорванные облака, туман + небольшая облачность, туман\n",
    "  3. легкий снег, дождь + гроза + переменная облачность, небольшой дождь + вероятна облачность\n",
    "  4. сильный дождь + ледяной дождь + гроза + туман, снег + тумат\n",
    "  \n",
    "  \n",
    "- *temp:* температура в градусах Цельсия (показания датчиков)\n",
    "- *atemp:* \"Ощущаемая\" температура в градусах Цельсия \n",
    "- *humidity:* относительная влажность\n",
    "- *windspeed:* скорость ветра\n",
    "- *workingday:* отметка, если день не выходной и не праздник  \n",
    "- *casual:* количество незарегистрированных пользователей аренды\n",
    "- *registered:* количество зарегистрированных пользователей аренды\n",
    "- *count:* общее количество аренды"
   ]
  },
  {
   "cell_type": "markdown",
   "metadata": {},
   "source": [
    "### Постановка задачи: <br>\n",
    "Необходимо спрогнозировать спрос на велосипеды (признаки casual, registred, count).\n",
    "\n",
    "Разработанная модель может помочь выявить наиболее значимые признаки в прогнозировании спроса на прокатные велосипеды разных типов пользователей.\n",
    "\n",
    "* casual - это незарегестрированные пользователи, которые, возможно, редко пользуются прокатом и им не выгодно оформлять абонемент\n",
    "* registred - это пользователи, которые завели себе абонемент\n",
    "* count - registred+casual\n",
    "\n",
    "Соответственно целевой переменной может быть любое из этих вариантов\n",
    "\n",
    "Качество оценивается c помощью Root Mean Squared Logarithmic Error (RMSLE) - то есть недопрогноз в данном случае хуже, чем перепрогноз"
   ]
  },
  {
   "cell_type": "markdown",
   "metadata": {},
   "source": [
    "### Предобработка данных:"
   ]
  },
  {
   "cell_type": "markdown",
   "metadata": {},
   "source": [
    "Бинарные признаки уже закодированы. <br> \n",
    "К категориальным переменным можно применить  One-hot encoding <br>\n",
    "Можно отдельно выделить признаки для \"времени дня\", \"месяца\" и дня недели"
   ]
  },
  {
   "cell_type": "code",
   "execution_count": 128,
   "metadata": {},
   "outputs": [],
   "source": [
    "def get_date_features(df):\n",
    "    df['datetime'] = pd.to_datetime(df['datetime'], format='%Y-%m-%d %H:%M')\n",
    "    df['year'] = df.loc[:, 'datetime'].dt.year\n",
    "    df['month'] = df.loc[:, 'datetime'].dt.month\n",
    "    df['day'] = df.loc[:, 'datetime'].dt.day\n",
    "    df['hour'] = df.loc[:, 'datetime'].dt.hour\n",
    "    df['weekday'] = df.loc[:, 'datetime'].dt.weekday\n",
    "    \n",
    "    return df"
   ]
  },
  {
   "cell_type": "code",
   "execution_count": 129,
   "metadata": {},
   "outputs": [],
   "source": [
    "df = df.pipe(get_date_features)"
   ]
  },
  {
   "cell_type": "code",
   "execution_count": 130,
   "metadata": {},
   "outputs": [
    {
     "data": {
      "text/html": [
       "<div>\n",
       "<style scoped>\n",
       "    .dataframe tbody tr th:only-of-type {\n",
       "        vertical-align: middle;\n",
       "    }\n",
       "\n",
       "    .dataframe tbody tr th {\n",
       "        vertical-align: top;\n",
       "    }\n",
       "\n",
       "    .dataframe thead th {\n",
       "        text-align: right;\n",
       "    }\n",
       "</style>\n",
       "<table border=\"1\" class=\"dataframe\">\n",
       "  <thead>\n",
       "    <tr style=\"text-align: right;\">\n",
       "      <th></th>\n",
       "      <th>datetime</th>\n",
       "      <th>season</th>\n",
       "      <th>holiday</th>\n",
       "      <th>workingday</th>\n",
       "      <th>weather</th>\n",
       "      <th>temp</th>\n",
       "      <th>atemp</th>\n",
       "      <th>humidity</th>\n",
       "      <th>windspeed</th>\n",
       "      <th>casual</th>\n",
       "      <th>registered</th>\n",
       "      <th>count</th>\n",
       "      <th>year</th>\n",
       "      <th>month</th>\n",
       "      <th>day</th>\n",
       "      <th>hour</th>\n",
       "      <th>weekday</th>\n",
       "    </tr>\n",
       "  </thead>\n",
       "  <tbody>\n",
       "    <tr>\n",
       "      <th>0</th>\n",
       "      <td>2011-01-01 00:00:00</td>\n",
       "      <td>1</td>\n",
       "      <td>0</td>\n",
       "      <td>0</td>\n",
       "      <td>1</td>\n",
       "      <td>9.84</td>\n",
       "      <td>14.395</td>\n",
       "      <td>81</td>\n",
       "      <td>0.0</td>\n",
       "      <td>3</td>\n",
       "      <td>13</td>\n",
       "      <td>16</td>\n",
       "      <td>2011</td>\n",
       "      <td>1</td>\n",
       "      <td>1</td>\n",
       "      <td>0</td>\n",
       "      <td>5</td>\n",
       "    </tr>\n",
       "    <tr>\n",
       "      <th>1</th>\n",
       "      <td>2011-01-01 01:00:00</td>\n",
       "      <td>1</td>\n",
       "      <td>0</td>\n",
       "      <td>0</td>\n",
       "      <td>1</td>\n",
       "      <td>9.02</td>\n",
       "      <td>13.635</td>\n",
       "      <td>80</td>\n",
       "      <td>0.0</td>\n",
       "      <td>8</td>\n",
       "      <td>32</td>\n",
       "      <td>40</td>\n",
       "      <td>2011</td>\n",
       "      <td>1</td>\n",
       "      <td>1</td>\n",
       "      <td>1</td>\n",
       "      <td>5</td>\n",
       "    </tr>\n",
       "    <tr>\n",
       "      <th>2</th>\n",
       "      <td>2011-01-01 02:00:00</td>\n",
       "      <td>1</td>\n",
       "      <td>0</td>\n",
       "      <td>0</td>\n",
       "      <td>1</td>\n",
       "      <td>9.02</td>\n",
       "      <td>13.635</td>\n",
       "      <td>80</td>\n",
       "      <td>0.0</td>\n",
       "      <td>5</td>\n",
       "      <td>27</td>\n",
       "      <td>32</td>\n",
       "      <td>2011</td>\n",
       "      <td>1</td>\n",
       "      <td>1</td>\n",
       "      <td>2</td>\n",
       "      <td>5</td>\n",
       "    </tr>\n",
       "    <tr>\n",
       "      <th>3</th>\n",
       "      <td>2011-01-01 03:00:00</td>\n",
       "      <td>1</td>\n",
       "      <td>0</td>\n",
       "      <td>0</td>\n",
       "      <td>1</td>\n",
       "      <td>9.84</td>\n",
       "      <td>14.395</td>\n",
       "      <td>75</td>\n",
       "      <td>0.0</td>\n",
       "      <td>3</td>\n",
       "      <td>10</td>\n",
       "      <td>13</td>\n",
       "      <td>2011</td>\n",
       "      <td>1</td>\n",
       "      <td>1</td>\n",
       "      <td>3</td>\n",
       "      <td>5</td>\n",
       "    </tr>\n",
       "    <tr>\n",
       "      <th>4</th>\n",
       "      <td>2011-01-01 04:00:00</td>\n",
       "      <td>1</td>\n",
       "      <td>0</td>\n",
       "      <td>0</td>\n",
       "      <td>1</td>\n",
       "      <td>9.84</td>\n",
       "      <td>14.395</td>\n",
       "      <td>75</td>\n",
       "      <td>0.0</td>\n",
       "      <td>0</td>\n",
       "      <td>1</td>\n",
       "      <td>1</td>\n",
       "      <td>2011</td>\n",
       "      <td>1</td>\n",
       "      <td>1</td>\n",
       "      <td>4</td>\n",
       "      <td>5</td>\n",
       "    </tr>\n",
       "  </tbody>\n",
       "</table>\n",
       "</div>"
      ],
      "text/plain": [
       "             datetime  season  holiday  workingday  weather  temp   atemp  \\\n",
       "0 2011-01-01 00:00:00       1        0           0        1  9.84  14.395   \n",
       "1 2011-01-01 01:00:00       1        0           0        1  9.02  13.635   \n",
       "2 2011-01-01 02:00:00       1        0           0        1  9.02  13.635   \n",
       "3 2011-01-01 03:00:00       1        0           0        1  9.84  14.395   \n",
       "4 2011-01-01 04:00:00       1        0           0        1  9.84  14.395   \n",
       "\n",
       "   humidity  windspeed  casual  registered  count  year  month  day  hour  \\\n",
       "0        81        0.0       3          13     16  2011      1    1     0   \n",
       "1        80        0.0       8          32     40  2011      1    1     1   \n",
       "2        80        0.0       5          27     32  2011      1    1     2   \n",
       "3        75        0.0       3          10     13  2011      1    1     3   \n",
       "4        75        0.0       0           1      1  2011      1    1     4   \n",
       "\n",
       "   weekday  \n",
       "0        5  \n",
       "1        5  \n",
       "2        5  \n",
       "3        5  \n",
       "4        5  "
      ]
     },
     "execution_count": 130,
     "metadata": {},
     "output_type": "execute_result"
    }
   ],
   "source": [
    "df.head()"
   ]
  },
  {
   "cell_type": "markdown",
   "metadata": {},
   "source": [
    "### Первичный анализ признаков:"
   ]
  },
  {
   "cell_type": "markdown",
   "metadata": {},
   "source": [
    "Основные характеристики переменных и их описание."
   ]
  },
  {
   "cell_type": "markdown",
   "metadata": {},
   "source": [
    "#### Вещественные признаки"
   ]
  },
  {
   "cell_type": "code",
   "execution_count": 131,
   "metadata": {},
   "outputs": [
    {
     "name": "stdout",
     "output_type": "stream",
     "text": [
      "(10886, 17)\n"
     ]
    },
    {
     "data": {
      "text/html": [
       "<div>\n",
       "<style scoped>\n",
       "    .dataframe tbody tr th:only-of-type {\n",
       "        vertical-align: middle;\n",
       "    }\n",
       "\n",
       "    .dataframe tbody tr th {\n",
       "        vertical-align: top;\n",
       "    }\n",
       "\n",
       "    .dataframe thead th {\n",
       "        text-align: right;\n",
       "    }\n",
       "</style>\n",
       "<table border=\"1\" class=\"dataframe\">\n",
       "  <thead>\n",
       "    <tr style=\"text-align: right;\">\n",
       "      <th></th>\n",
       "      <th>count</th>\n",
       "      <th>mean</th>\n",
       "      <th>std</th>\n",
       "      <th>min</th>\n",
       "      <th>25%</th>\n",
       "      <th>50%</th>\n",
       "      <th>75%</th>\n",
       "      <th>max</th>\n",
       "    </tr>\n",
       "  </thead>\n",
       "  <tbody>\n",
       "    <tr>\n",
       "      <th>season</th>\n",
       "      <td>10886.0</td>\n",
       "      <td>2.506614</td>\n",
       "      <td>1.116174</td>\n",
       "      <td>1.00</td>\n",
       "      <td>2.0000</td>\n",
       "      <td>3.000</td>\n",
       "      <td>4.0000</td>\n",
       "      <td>4.0000</td>\n",
       "    </tr>\n",
       "    <tr>\n",
       "      <th>holiday</th>\n",
       "      <td>10886.0</td>\n",
       "      <td>0.028569</td>\n",
       "      <td>0.166599</td>\n",
       "      <td>0.00</td>\n",
       "      <td>0.0000</td>\n",
       "      <td>0.000</td>\n",
       "      <td>0.0000</td>\n",
       "      <td>1.0000</td>\n",
       "    </tr>\n",
       "    <tr>\n",
       "      <th>workingday</th>\n",
       "      <td>10886.0</td>\n",
       "      <td>0.680875</td>\n",
       "      <td>0.466159</td>\n",
       "      <td>0.00</td>\n",
       "      <td>0.0000</td>\n",
       "      <td>1.000</td>\n",
       "      <td>1.0000</td>\n",
       "      <td>1.0000</td>\n",
       "    </tr>\n",
       "    <tr>\n",
       "      <th>weather</th>\n",
       "      <td>10886.0</td>\n",
       "      <td>1.418427</td>\n",
       "      <td>0.633839</td>\n",
       "      <td>1.00</td>\n",
       "      <td>1.0000</td>\n",
       "      <td>1.000</td>\n",
       "      <td>2.0000</td>\n",
       "      <td>4.0000</td>\n",
       "    </tr>\n",
       "    <tr>\n",
       "      <th>temp</th>\n",
       "      <td>10886.0</td>\n",
       "      <td>20.230860</td>\n",
       "      <td>7.791590</td>\n",
       "      <td>0.82</td>\n",
       "      <td>13.9400</td>\n",
       "      <td>20.500</td>\n",
       "      <td>26.2400</td>\n",
       "      <td>41.0000</td>\n",
       "    </tr>\n",
       "    <tr>\n",
       "      <th>atemp</th>\n",
       "      <td>10886.0</td>\n",
       "      <td>23.655084</td>\n",
       "      <td>8.474601</td>\n",
       "      <td>0.76</td>\n",
       "      <td>16.6650</td>\n",
       "      <td>24.240</td>\n",
       "      <td>31.0600</td>\n",
       "      <td>45.4550</td>\n",
       "    </tr>\n",
       "    <tr>\n",
       "      <th>humidity</th>\n",
       "      <td>10886.0</td>\n",
       "      <td>61.886460</td>\n",
       "      <td>19.245033</td>\n",
       "      <td>0.00</td>\n",
       "      <td>47.0000</td>\n",
       "      <td>62.000</td>\n",
       "      <td>77.0000</td>\n",
       "      <td>100.0000</td>\n",
       "    </tr>\n",
       "    <tr>\n",
       "      <th>windspeed</th>\n",
       "      <td>10886.0</td>\n",
       "      <td>12.799395</td>\n",
       "      <td>8.164537</td>\n",
       "      <td>0.00</td>\n",
       "      <td>7.0015</td>\n",
       "      <td>12.998</td>\n",
       "      <td>16.9979</td>\n",
       "      <td>56.9969</td>\n",
       "    </tr>\n",
       "    <tr>\n",
       "      <th>casual</th>\n",
       "      <td>10886.0</td>\n",
       "      <td>36.021955</td>\n",
       "      <td>49.960477</td>\n",
       "      <td>0.00</td>\n",
       "      <td>4.0000</td>\n",
       "      <td>17.000</td>\n",
       "      <td>49.0000</td>\n",
       "      <td>367.0000</td>\n",
       "    </tr>\n",
       "    <tr>\n",
       "      <th>registered</th>\n",
       "      <td>10886.0</td>\n",
       "      <td>155.552177</td>\n",
       "      <td>151.039033</td>\n",
       "      <td>0.00</td>\n",
       "      <td>36.0000</td>\n",
       "      <td>118.000</td>\n",
       "      <td>222.0000</td>\n",
       "      <td>886.0000</td>\n",
       "    </tr>\n",
       "    <tr>\n",
       "      <th>count</th>\n",
       "      <td>10886.0</td>\n",
       "      <td>191.574132</td>\n",
       "      <td>181.144454</td>\n",
       "      <td>1.00</td>\n",
       "      <td>42.0000</td>\n",
       "      <td>145.000</td>\n",
       "      <td>284.0000</td>\n",
       "      <td>977.0000</td>\n",
       "    </tr>\n",
       "    <tr>\n",
       "      <th>year</th>\n",
       "      <td>10886.0</td>\n",
       "      <td>2011.501929</td>\n",
       "      <td>0.500019</td>\n",
       "      <td>2011.00</td>\n",
       "      <td>2011.0000</td>\n",
       "      <td>2012.000</td>\n",
       "      <td>2012.0000</td>\n",
       "      <td>2012.0000</td>\n",
       "    </tr>\n",
       "    <tr>\n",
       "      <th>month</th>\n",
       "      <td>10886.0</td>\n",
       "      <td>6.521495</td>\n",
       "      <td>3.444373</td>\n",
       "      <td>1.00</td>\n",
       "      <td>4.0000</td>\n",
       "      <td>7.000</td>\n",
       "      <td>10.0000</td>\n",
       "      <td>12.0000</td>\n",
       "    </tr>\n",
       "    <tr>\n",
       "      <th>day</th>\n",
       "      <td>10886.0</td>\n",
       "      <td>9.992559</td>\n",
       "      <td>5.476608</td>\n",
       "      <td>1.00</td>\n",
       "      <td>5.0000</td>\n",
       "      <td>10.000</td>\n",
       "      <td>15.0000</td>\n",
       "      <td>19.0000</td>\n",
       "    </tr>\n",
       "    <tr>\n",
       "      <th>hour</th>\n",
       "      <td>10886.0</td>\n",
       "      <td>11.541613</td>\n",
       "      <td>6.915838</td>\n",
       "      <td>0.00</td>\n",
       "      <td>6.0000</td>\n",
       "      <td>12.000</td>\n",
       "      <td>18.0000</td>\n",
       "      <td>23.0000</td>\n",
       "    </tr>\n",
       "    <tr>\n",
       "      <th>weekday</th>\n",
       "      <td>10886.0</td>\n",
       "      <td>3.013963</td>\n",
       "      <td>2.004585</td>\n",
       "      <td>0.00</td>\n",
       "      <td>1.0000</td>\n",
       "      <td>3.000</td>\n",
       "      <td>5.0000</td>\n",
       "      <td>6.0000</td>\n",
       "    </tr>\n",
       "  </tbody>\n",
       "</table>\n",
       "</div>"
      ],
      "text/plain": [
       "              count         mean         std      min        25%       50%  \\\n",
       "season      10886.0     2.506614    1.116174     1.00     2.0000     3.000   \n",
       "holiday     10886.0     0.028569    0.166599     0.00     0.0000     0.000   \n",
       "workingday  10886.0     0.680875    0.466159     0.00     0.0000     1.000   \n",
       "weather     10886.0     1.418427    0.633839     1.00     1.0000     1.000   \n",
       "temp        10886.0    20.230860    7.791590     0.82    13.9400    20.500   \n",
       "atemp       10886.0    23.655084    8.474601     0.76    16.6650    24.240   \n",
       "humidity    10886.0    61.886460   19.245033     0.00    47.0000    62.000   \n",
       "windspeed   10886.0    12.799395    8.164537     0.00     7.0015    12.998   \n",
       "casual      10886.0    36.021955   49.960477     0.00     4.0000    17.000   \n",
       "registered  10886.0   155.552177  151.039033     0.00    36.0000   118.000   \n",
       "count       10886.0   191.574132  181.144454     1.00    42.0000   145.000   \n",
       "year        10886.0  2011.501929    0.500019  2011.00  2011.0000  2012.000   \n",
       "month       10886.0     6.521495    3.444373     1.00     4.0000     7.000   \n",
       "day         10886.0     9.992559    5.476608     1.00     5.0000    10.000   \n",
       "hour        10886.0    11.541613    6.915838     0.00     6.0000    12.000   \n",
       "weekday     10886.0     3.013963    2.004585     0.00     1.0000     3.000   \n",
       "\n",
       "                  75%        max  \n",
       "season         4.0000     4.0000  \n",
       "holiday        0.0000     1.0000  \n",
       "workingday     1.0000     1.0000  \n",
       "weather        2.0000     4.0000  \n",
       "temp          26.2400    41.0000  \n",
       "atemp         31.0600    45.4550  \n",
       "humidity      77.0000   100.0000  \n",
       "windspeed     16.9979    56.9969  \n",
       "casual        49.0000   367.0000  \n",
       "registered   222.0000   886.0000  \n",
       "count        284.0000   977.0000  \n",
       "year        2012.0000  2012.0000  \n",
       "month         10.0000    12.0000  \n",
       "day           15.0000    19.0000  \n",
       "hour          18.0000    23.0000  \n",
       "weekday        5.0000     6.0000  "
      ]
     },
     "execution_count": 131,
     "metadata": {},
     "output_type": "execute_result"
    }
   ],
   "source": [
    "print(df.shape)\n",
    "df.describe().T"
   ]
  },
  {
   "cell_type": "markdown",
   "metadata": {},
   "source": [
    "#### Категориальные признаки"
   ]
  },
  {
   "cell_type": "code",
   "execution_count": 132,
   "metadata": {},
   "outputs": [
    {
     "name": "stdout",
     "output_type": "stream",
     "text": [
      "\n",
      "holiday\n",
      "0    10575\n",
      "1      311\n",
      "Name: holiday, dtype: int64\n",
      "_____________________________________________\n",
      "\n",
      "season\n",
      "4    2734\n",
      "3    2733\n",
      "2    2733\n",
      "1    2686\n",
      "Name: season, dtype: int64\n",
      "_____________________________________________\n",
      "\n",
      "weather\n",
      "1    7192\n",
      "2    2834\n",
      "3     859\n",
      "4       1\n",
      "Name: weather, dtype: int64\n",
      "_____________________________________________\n",
      "\n",
      "workingday\n",
      "1    7412\n",
      "0    3474\n",
      "Name: workingday, dtype: int64\n",
      "_____________________________________________\n"
     ]
    }
   ],
   "source": [
    "for i in [\"holiday\", \"season\", \"weather\", \"workingday\"]:\n",
    "    print('')\n",
    "    print(i)\n",
    "    print(df[i].value_counts())\n",
    "    print('_____________________________________________')"
   ]
  },
  {
   "cell_type": "markdown",
   "metadata": {},
   "source": [
    "**Вывод:** <br>\n",
    "Чаще велосипеды брали в ясную погоду. Присутствует редкая категория \"4\" в признаке \"weather\". <br>"
   ]
  },
  {
   "cell_type": "markdown",
   "metadata": {},
   "source": [
    "#### Анализ линейных зависимостей в данных"
   ]
  },
  {
   "cell_type": "markdown",
   "metadata": {},
   "source": [
    "Определим, есть ли переменные с высокой корреляцией."
   ]
  },
  {
   "cell_type": "code",
   "execution_count": 133,
   "metadata": {},
   "outputs": [
    {
     "data": {
      "image/png": "[encoded data removed]",
      "text/plain": [
       "<Figure size 1512x1512 with 2 Axes>"
      ]
     },
     "metadata": {},
     "output_type": "display_data"
    }
   ],
   "source": [
    "f, ax = plt.subplots(figsize = (21, 21))\n",
    "sns.heatmap(df.corr(), ax = ax, annot=True);"
   ]
  },
  {
   "cell_type": "markdown",
   "metadata": {},
   "source": [
    "**Вывод:** <br>\n",
    "Наибольшую корреляцию имеют atemp и temp. Корреляция близка к 1, поэтому скорее всего придется оставить какую-то одну из переменных.\n",
    "\n",
    "В то же время, целевые переменные (count, registred и casual) в большей степени коррелированы именно с показтелями температуры"
   ]
  },
  {
   "cell_type": "markdown",
   "metadata": {},
   "source": [
    "#### Распределение некоторых признаков"
   ]
  },
  {
   "cell_type": "code",
   "execution_count": 134,
   "metadata": {},
   "outputs": [
    {
     "data": {
      "image/png": "[encoded data removed]",
      "text/plain": [
       "<Figure size 432x288 with 1 Axes>"
      ]
     },
     "metadata": {},
     "output_type": "display_data"
    }
   ],
   "source": [
    "sns.distplot(df['humidity']);"
   ]
  },
  {
   "cell_type": "code",
   "execution_count": 135,
   "metadata": {},
   "outputs": [
    {
     "data": {
      "image/png": "[encoded data removed]",
      "text/plain": [
       "<Figure size 432x288 with 1 Axes>"
      ]
     },
     "metadata": {},
     "output_type": "display_data"
    }
   ],
   "source": [
    "sns.distplot(df['temp']);"
   ]
  },
  {
   "cell_type": "code",
   "execution_count": 136,
   "metadata": {},
   "outputs": [
    {
     "data": {
      "image/png": "[encoded data removed]",
      "text/plain": [
       "<Figure size 432x288 with 1 Axes>"
      ]
     },
     "metadata": {},
     "output_type": "display_data"
    }
   ],
   "source": [
    "sns.distplot(df['windspeed']);"
   ]
  },
  {
   "cell_type": "markdown",
   "metadata": {},
   "source": [
    "#### Парные распределения с целевыми признаками"
   ]
  },
  {
   "cell_type": "markdown",
   "metadata": {},
   "source": [
    "*Выясним, как зависит аренда от даты и времени.*"
   ]
  },
  {
   "cell_type": "code",
   "execution_count": 137,
   "metadata": {},
   "outputs": [
    {
     "data": {
      "image/png": "[encoded data removed]",
      "text/plain": [
       "<Figure size 432x288 with 1 Axes>"
      ]
     },
     "metadata": {},
     "output_type": "display_data"
    }
   ],
   "source": [
    "sns.barplot('year', 'count', data=df);"
   ]
  },
  {
   "cell_type": "markdown",
   "metadata": {},
   "source": [
    "**Вывод:** <br>\n",
    "Количество аренды возврасло в течение заданного периода (2011 - 2012 года). Стоит это учитывать при прогнозировании на дни соответствующих годов."
   ]
  },
  {
   "cell_type": "code",
   "execution_count": 138,
   "metadata": {},
   "outputs": [
    {
     "data": {
      "image/png": "[encoded data removed]",
      "text/plain": [
       "<Figure size 432x288 with 1 Axes>"
      ]
     },
     "metadata": {},
     "output_type": "display_data"
    }
   ],
   "source": [
    "sns.barplot('month', 'count', data=df, hue='year');"
   ]
  },
  {
   "cell_type": "markdown",
   "metadata": {},
   "source": [
    "**Вывод:** <br>\n",
    "В зимний период наблюдался спад востребованности велосипедов, а в летние - напротив, рост. То есть прослеживается очевидная сезонность."
   ]
  },
  {
   "cell_type": "code",
   "execution_count": 139,
   "metadata": {},
   "outputs": [
    {
     "data": {
      "image/png": "[encoded data removed]",
      "text/plain": [
       "<Figure size 432x288 with 1 Axes>"
      ]
     },
     "metadata": {},
     "output_type": "display_data"
    }
   ],
   "source": [
    "sns.barplot('day', 'count', data=df, hue='year');"
   ]
  },
  {
   "cell_type": "markdown",
   "metadata": {},
   "source": [
    "**Вывод:** <br>\n",
    "Можно сделать вывод, что ежедневная востребованность велосипедов в первой половине месяца не имела тенденции резко возрастать или уменьшаться. <br>\n",
    "То есть данные о дне не имеют высокого влияния на аренду."
   ]
  },
  {
   "cell_type": "code",
   "execution_count": 140,
   "metadata": {},
   "outputs": [
    {
     "data": {
      "image/png": "[encoded data removed]",
      "text/plain": [
       "<Figure size 432x216 with 2 Axes>"
      ]
     },
     "metadata": {},
     "output_type": "display_data"
    }
   ],
   "source": [
    "g = sns.FacetGrid(df, col='year')\n",
    "g.map(sns.barplot, 'hour', 'count', 'workingday');"
   ]
  },
  {
   "cell_type": "markdown",
   "metadata": {},
   "source": [
    "**Вывод:** <br>\n",
    "В отличие от дня на календаре время имеет вес в прогнозировании. После возрастания (и последующего падения) в утренние часы, к вечеру количество арендующих постепенно возрастало."
   ]
  },
  {
   "cell_type": "code",
   "execution_count": 141,
   "metadata": {},
   "outputs": [
    {
     "data": {
      "image/png": "[encoded data removed]",
      "text/plain": [
       "<Figure size 432x288 with 1 Axes>"
      ]
     },
     "metadata": {},
     "output_type": "display_data"
    }
   ],
   "source": [
    "sns.barplot('weekday', 'count', data=df, hue='year');"
   ]
  },
  {
   "cell_type": "markdown",
   "metadata": {},
   "source": [
    "**Вывод:** <br>\n",
    "Наблюдался небольшой провал в воскресение."
   ]
  },
  {
   "cell_type": "markdown",
   "metadata": {},
   "source": [
    "Посмотрим на отличие в распределение зарегистрированных и незарегистрированных пользователей"
   ]
  },
  {
   "cell_type": "code",
   "execution_count": 142,
   "metadata": {},
   "outputs": [
    {
     "data": {
      "image/png": "[encoded data removed]",
      "text/plain": [
       "<Figure size 349.375x288 with 1 Axes>"
      ]
     },
     "metadata": {},
     "output_type": "display_data"
    },
    {
     "data": {
      "image/png": "[encoded data removed]",
      "text/plain": [
       "<Figure size 349.375x288 with 1 Axes>"
      ]
     },
     "metadata": {},
     "output_type": "display_data"
    }
   ],
   "source": [
    "sns.factorplot('weekday', 'casual', data=df, hue='year');\n",
    "sns.factorplot('weekday', 'registered', data=df, hue='year');"
   ]
  },
  {
   "cell_type": "markdown",
   "metadata": {},
   "source": [
    "**Вывод: **<br>\n",
    "Зарегистрированные в системе пользователи чаще брали велосипеды в выходные дни, при этом пик аренды достигался в субботу. <br>\n",
    "Незарегистированные же предпочитали брать велосипеды в буднии дни, практически игнорируя(в сравнении) при этом выходные дни. Самый низкий показатель датировался воскресением, после чего в понедельник происходил резкий взлёт аренды. <br>"
   ]
  },
  {
   "cell_type": "markdown",
   "metadata": {},
   "source": [
    "# Getting hands dirty"
   ]
  },
  {
   "cell_type": "code",
   "execution_count": 143,
   "metadata": {},
   "outputs": [],
   "source": [
    "from sklearn.model_selection import train_test_split, cross_val_score\n",
    "from sklearn.model_selection import StratifiedKFold"
   ]
  },
  {
   "cell_type": "markdown",
   "metadata": {},
   "source": [
    "### Задание (0.25)"
   ]
  },
  {
   "cell_type": "markdown",
   "metadata": {},
   "source": [
    "Создайте переменную (именно отдельную переменную а не стобец в датафрейме) состоящий из строк вида \"год-месяц-час\"\n",
    "\n",
    "Эта переменная понадобится нам далее"
   ]
  },
  {
   "cell_type": "code",
   "execution_count": 144,
   "metadata": {},
   "outputs": [
    {
     "name": "stdout",
     "output_type": "stream",
     "text": [
      "['2011-01-00:00:00' '2011-01-01:00:00' '2011-01-02:00:00'\n",
      " '2011-01-03:00:00' '2011-01-04:00:00' '2011-01-05:00:00'\n",
      " '2011-01-06:00:00' '2011-01-07:00:00' '2011-01-08:00:00'\n",
      " '2011-01-09:00:00']\n"
     ]
    }
   ],
   "source": [
    "year_month_hour = np.array([str(el).split('-')[0]+'-'+str(el).split('-')[1]+'-'+str(str(el).split('T')[1]).split('.')[0] \n",
    "                   for el in df['datetime'].values])\n",
    "print(year_month_hour[:10])"
   ]
  },
  {
   "cell_type": "markdown",
   "metadata": {},
   "source": [
    "### Задание (0.25)"
   ]
  },
  {
   "cell_type": "markdown",
   "metadata": {},
   "source": [
    "Напишите функцию `prepare_features` которая бы\n",
    "* Удаляла ненужные признаки (сильно скоррелированные и просто бесполковые, типа `datetime`, `day`)\n",
    "* Оставляла только один из целевых признаков (casual, registred или count)\n",
    "* Вместо того, чтобы затачиваться на конкретный час (признак `hour`) создайте новую переменную (утро, день, вечер, ночь). Границы оцените интуитивно. Старую переменную удалите\n",
    "* Преобразовывала бинарные признаки в вектора с {0,1} а категориальные признаки в вектора с {0,1,...,C-1}\n",
    "* Опционально: создайте переменную, которая учитывает день недели и время"
   ]
  },
  {
   "cell_type": "code",
   "execution_count": 145,
   "metadata": {},
   "outputs": [
    {
     "data": {
      "text/html": [
       "<div>\n",
       "<style scoped>\n",
       "    .dataframe tbody tr th:only-of-type {\n",
       "        vertical-align: middle;\n",
       "    }\n",
       "\n",
       "    .dataframe tbody tr th {\n",
       "        vertical-align: top;\n",
       "    }\n",
       "\n",
       "    .dataframe thead th {\n",
       "        text-align: right;\n",
       "    }\n",
       "</style>\n",
       "<table border=\"1\" class=\"dataframe\">\n",
       "  <thead>\n",
       "    <tr style=\"text-align: right;\">\n",
       "      <th></th>\n",
       "      <th>datetime</th>\n",
       "      <th>season</th>\n",
       "      <th>holiday</th>\n",
       "      <th>workingday</th>\n",
       "      <th>weather</th>\n",
       "      <th>temp</th>\n",
       "      <th>atemp</th>\n",
       "      <th>humidity</th>\n",
       "      <th>windspeed</th>\n",
       "      <th>casual</th>\n",
       "      <th>registered</th>\n",
       "      <th>count</th>\n",
       "      <th>year</th>\n",
       "      <th>month</th>\n",
       "      <th>day</th>\n",
       "      <th>hour</th>\n",
       "      <th>weekday</th>\n",
       "    </tr>\n",
       "  </thead>\n",
       "  <tbody>\n",
       "    <tr>\n",
       "      <th>0</th>\n",
       "      <td>2011-01-01 00:00:00</td>\n",
       "      <td>1</td>\n",
       "      <td>0</td>\n",
       "      <td>0</td>\n",
       "      <td>1</td>\n",
       "      <td>9.84</td>\n",
       "      <td>14.395</td>\n",
       "      <td>81</td>\n",
       "      <td>0.0</td>\n",
       "      <td>3</td>\n",
       "      <td>13</td>\n",
       "      <td>16</td>\n",
       "      <td>2011</td>\n",
       "      <td>1</td>\n",
       "      <td>1</td>\n",
       "      <td>0</td>\n",
       "      <td>5</td>\n",
       "    </tr>\n",
       "    <tr>\n",
       "      <th>1</th>\n",
       "      <td>2011-01-01 01:00:00</td>\n",
       "      <td>1</td>\n",
       "      <td>0</td>\n",
       "      <td>0</td>\n",
       "      <td>1</td>\n",
       "      <td>9.02</td>\n",
       "      <td>13.635</td>\n",
       "      <td>80</td>\n",
       "      <td>0.0</td>\n",
       "      <td>8</td>\n",
       "      <td>32</td>\n",
       "      <td>40</td>\n",
       "      <td>2011</td>\n",
       "      <td>1</td>\n",
       "      <td>1</td>\n",
       "      <td>1</td>\n",
       "      <td>5</td>\n",
       "    </tr>\n",
       "    <tr>\n",
       "      <th>2</th>\n",
       "      <td>2011-01-01 02:00:00</td>\n",
       "      <td>1</td>\n",
       "      <td>0</td>\n",
       "      <td>0</td>\n",
       "      <td>1</td>\n",
       "      <td>9.02</td>\n",
       "      <td>13.635</td>\n",
       "      <td>80</td>\n",
       "      <td>0.0</td>\n",
       "      <td>5</td>\n",
       "      <td>27</td>\n",
       "      <td>32</td>\n",
       "      <td>2011</td>\n",
       "      <td>1</td>\n",
       "      <td>1</td>\n",
       "      <td>2</td>\n",
       "      <td>5</td>\n",
       "    </tr>\n",
       "    <tr>\n",
       "      <th>3</th>\n",
       "      <td>2011-01-01 03:00:00</td>\n",
       "      <td>1</td>\n",
       "      <td>0</td>\n",
       "      <td>0</td>\n",
       "      <td>1</td>\n",
       "      <td>9.84</td>\n",
       "      <td>14.395</td>\n",
       "      <td>75</td>\n",
       "      <td>0.0</td>\n",
       "      <td>3</td>\n",
       "      <td>10</td>\n",
       "      <td>13</td>\n",
       "      <td>2011</td>\n",
       "      <td>1</td>\n",
       "      <td>1</td>\n",
       "      <td>3</td>\n",
       "      <td>5</td>\n",
       "    </tr>\n",
       "    <tr>\n",
       "      <th>4</th>\n",
       "      <td>2011-01-01 04:00:00</td>\n",
       "      <td>1</td>\n",
       "      <td>0</td>\n",
       "      <td>0</td>\n",
       "      <td>1</td>\n",
       "      <td>9.84</td>\n",
       "      <td>14.395</td>\n",
       "      <td>75</td>\n",
       "      <td>0.0</td>\n",
       "      <td>0</td>\n",
       "      <td>1</td>\n",
       "      <td>1</td>\n",
       "      <td>2011</td>\n",
       "      <td>1</td>\n",
       "      <td>1</td>\n",
       "      <td>4</td>\n",
       "      <td>5</td>\n",
       "    </tr>\n",
       "  </tbody>\n",
       "</table>\n",
       "</div>"
      ],
      "text/plain": [
       "             datetime  season  holiday  workingday  weather  temp   atemp  \\\n",
       "0 2011-01-01 00:00:00       1        0           0        1  9.84  14.395   \n",
       "1 2011-01-01 01:00:00       1        0           0        1  9.02  13.635   \n",
       "2 2011-01-01 02:00:00       1        0           0        1  9.02  13.635   \n",
       "3 2011-01-01 03:00:00       1        0           0        1  9.84  14.395   \n",
       "4 2011-01-01 04:00:00       1        0           0        1  9.84  14.395   \n",
       "\n",
       "   humidity  windspeed  casual  registered  count  year  month  day  hour  \\\n",
       "0        81        0.0       3          13     16  2011      1    1     0   \n",
       "1        80        0.0       8          32     40  2011      1    1     1   \n",
       "2        80        0.0       5          27     32  2011      1    1     2   \n",
       "3        75        0.0       3          10     13  2011      1    1     3   \n",
       "4        75        0.0       0           1      1  2011      1    1     4   \n",
       "\n",
       "   weekday  \n",
       "0        5  \n",
       "1        5  \n",
       "2        5  \n",
       "3        5  \n",
       "4        5  "
      ]
     },
     "execution_count": 145,
     "metadata": {},
     "output_type": "execute_result"
    }
   ],
   "source": [
    "df.head()"
   ]
  },
  {
   "cell_type": "code",
   "execution_count": 146,
   "metadata": {},
   "outputs": [],
   "source": [
    "#определяем утро день вечер ночь\n",
    "def day_period(h):\n",
    "    if 4 <= h <= 9:\n",
    "        return 0\n",
    "    if 10 <= h <= 17:\n",
    "        return 1\n",
    "    if 18 <= h <= 21:\n",
    "        return 2\n",
    "    return 3\n",
    "            \n",
    "\n",
    "y_label = 'count'\n",
    "\n",
    "def prepare_features(df, target_feature=y_label):\n",
    "    ## Your code here\n",
    "    \n",
    "    # Удаляем ненужные столбцы\n",
    "    df.drop(labels = ['datetime', 'atemp', 'day', 'casual', 'registered'], axis = 1, inplace = True)\n",
    "    \n",
    "    # новый параметр - дневной период \n",
    "    df['day_period'] = df['hour'].apply(day_period)\n",
    "    df.drop(labels = 'hour', axis = 1, inplace = True)\n",
    "    \n",
    "    # binary -> {0, 1}, categorical -> {0, ..., N-1}\n",
    "    df['year'] = df['year'].apply(lambda x: (x+1) % 2)\n",
    "    for c in ['season', 'weather', 'month']:\n",
    "        df[c] = df[c].apply(lambda x: x - 1)\n",
    "    \n",
    "    return df"
   ]
  },
  {
   "cell_type": "markdown",
   "metadata": {},
   "source": [
    "Сделаем не простое разбиение на обучение и контроль а такую, что в контрольной и обучающей выборке будет примерно одинаковое распределение по году-месяцу"
   ]
  },
  {
   "cell_type": "code",
   "execution_count": 147,
   "metadata": {},
   "outputs": [],
   "source": [
    "df_clean = df.pipe(prepare_features, y_label)"
   ]
  },
  {
   "cell_type": "code",
   "execution_count": 148,
   "metadata": {},
   "outputs": [
    {
     "data": {
      "text/html": [
       "<div>\n",
       "<style scoped>\n",
       "    .dataframe tbody tr th:only-of-type {\n",
       "        vertical-align: middle;\n",
       "    }\n",
       "\n",
       "    .dataframe tbody tr th {\n",
       "        vertical-align: top;\n",
       "    }\n",
       "\n",
       "    .dataframe thead th {\n",
       "        text-align: right;\n",
       "    }\n",
       "</style>\n",
       "<table border=\"1\" class=\"dataframe\">\n",
       "  <thead>\n",
       "    <tr style=\"text-align: right;\">\n",
       "      <th></th>\n",
       "      <th>season</th>\n",
       "      <th>holiday</th>\n",
       "      <th>workingday</th>\n",
       "      <th>weather</th>\n",
       "      <th>temp</th>\n",
       "      <th>humidity</th>\n",
       "      <th>windspeed</th>\n",
       "      <th>count</th>\n",
       "      <th>year</th>\n",
       "      <th>month</th>\n",
       "      <th>weekday</th>\n",
       "      <th>day_period</th>\n",
       "    </tr>\n",
       "  </thead>\n",
       "  <tbody>\n",
       "    <tr>\n",
       "      <th>0</th>\n",
       "      <td>0</td>\n",
       "      <td>0</td>\n",
       "      <td>0</td>\n",
       "      <td>0</td>\n",
       "      <td>9.84</td>\n",
       "      <td>81</td>\n",
       "      <td>0.0</td>\n",
       "      <td>16</td>\n",
       "      <td>0</td>\n",
       "      <td>0</td>\n",
       "      <td>5</td>\n",
       "      <td>3</td>\n",
       "    </tr>\n",
       "    <tr>\n",
       "      <th>1</th>\n",
       "      <td>0</td>\n",
       "      <td>0</td>\n",
       "      <td>0</td>\n",
       "      <td>0</td>\n",
       "      <td>9.02</td>\n",
       "      <td>80</td>\n",
       "      <td>0.0</td>\n",
       "      <td>40</td>\n",
       "      <td>0</td>\n",
       "      <td>0</td>\n",
       "      <td>5</td>\n",
       "      <td>3</td>\n",
       "    </tr>\n",
       "    <tr>\n",
       "      <th>2</th>\n",
       "      <td>0</td>\n",
       "      <td>0</td>\n",
       "      <td>0</td>\n",
       "      <td>0</td>\n",
       "      <td>9.02</td>\n",
       "      <td>80</td>\n",
       "      <td>0.0</td>\n",
       "      <td>32</td>\n",
       "      <td>0</td>\n",
       "      <td>0</td>\n",
       "      <td>5</td>\n",
       "      <td>3</td>\n",
       "    </tr>\n",
       "    <tr>\n",
       "      <th>3</th>\n",
       "      <td>0</td>\n",
       "      <td>0</td>\n",
       "      <td>0</td>\n",
       "      <td>0</td>\n",
       "      <td>9.84</td>\n",
       "      <td>75</td>\n",
       "      <td>0.0</td>\n",
       "      <td>13</td>\n",
       "      <td>0</td>\n",
       "      <td>0</td>\n",
       "      <td>5</td>\n",
       "      <td>3</td>\n",
       "    </tr>\n",
       "    <tr>\n",
       "      <th>4</th>\n",
       "      <td>0</td>\n",
       "      <td>0</td>\n",
       "      <td>0</td>\n",
       "      <td>0</td>\n",
       "      <td>9.84</td>\n",
       "      <td>75</td>\n",
       "      <td>0.0</td>\n",
       "      <td>1</td>\n",
       "      <td>0</td>\n",
       "      <td>0</td>\n",
       "      <td>5</td>\n",
       "      <td>0</td>\n",
       "    </tr>\n",
       "  </tbody>\n",
       "</table>\n",
       "</div>"
      ],
      "text/plain": [
       "   season  holiday  workingday  weather  temp  humidity  windspeed  count  \\\n",
       "0       0        0           0        0  9.84        81        0.0     16   \n",
       "1       0        0           0        0  9.02        80        0.0     40   \n",
       "2       0        0           0        0  9.02        80        0.0     32   \n",
       "3       0        0           0        0  9.84        75        0.0     13   \n",
       "4       0        0           0        0  9.84        75        0.0      1   \n",
       "\n",
       "   year  month  weekday  day_period  \n",
       "0     0      0        5           3  \n",
       "1     0      0        5           3  \n",
       "2     0      0        5           3  \n",
       "3     0      0        5           3  \n",
       "4     0      0        5           0  "
      ]
     },
     "execution_count": 148,
     "metadata": {},
     "output_type": "execute_result"
    }
   ],
   "source": [
    "df_clean.head()"
   ]
  },
  {
   "cell_type": "markdown",
   "metadata": {},
   "source": [
    "## Baseline modelling"
   ]
  },
  {
   "cell_type": "markdown",
   "metadata": {
    "collapsed": true
   },
   "source": [
    "Для удобства будем использовать не LinearRegression а ElasticNet, так как в нем можно одновременно котроллировать оба типа регуляризации"
   ]
  },
  {
   "cell_type": "code",
   "execution_count": 149,
   "metadata": {},
   "outputs": [],
   "source": [
    "from sklearn.linear_model import ElasticNet"
   ]
  },
  {
   "cell_type": "code",
   "execution_count": 150,
   "metadata": {},
   "outputs": [],
   "source": [
    "# alpha - это общая сила регуляризации\n",
    "# l1_ration - доля, которая приходтися на Lasso регуляризацию. Соответственно остальное идет на Rigde\n",
    "regressor = ElasticNet(alpha=1.0, l1_ratio=0.5, positive = True, random_state=42)"
   ]
  },
  {
   "cell_type": "markdown",
   "metadata": {},
   "source": [
    "### Задание (0.10)\n",
    "\n",
    "Составьте pipeline, который состоит из следующих этапов (в скобках узакано \"название\" этапа):\n",
    "\n",
    "* One-hot encoder (\"onehot\")\n",
    "* StandartScaler (\"scaler\")\n",
    "* ElasticNet (\"elastic\")"
   ]
  },
  {
   "cell_type": "code",
   "execution_count": 151,
   "metadata": {},
   "outputs": [],
   "source": [
    "from sklearn.preprocessing import StandardScaler, OneHotEncoder\n",
    "from sklearn.pipeline import Pipeline"
   ]
  },
  {
   "cell_type": "code",
   "execution_count": 152,
   "metadata": {},
   "outputs": [],
   "source": [
    "\n",
    "preproc = Pipeline([('onehot', OneHotEncoder(categorical_features = [0, 3, 8, 9], sparse = False)), \n",
    "                   ('scaler', StandardScaler(with_mean = False))])"
   ]
  },
  {
   "cell_type": "markdown",
   "metadata": {},
   "source": [
    "### Задание (0.15)"
   ]
  },
  {
   "cell_type": "markdown",
   "metadata": {},
   "source": [
    "Перед тем как пойдем дальше реализуем RLMSE"
   ]
  },
  {
   "cell_type": "code",
   "execution_count": 153,
   "metadata": {},
   "outputs": [],
   "source": [
    "def rlmse_score(y_test, y_hat):\n",
    "    y_test = list(y_test.values)\n",
    "#     print(y_hat[:10])\n",
    "    terms_to_sum = [(np.log(np.abs(y_hat[i])+1) - np.log(np.abs(y_test[i])+1)) ** 2.0 for i in range(len(y_hat))]\n",
    "    return (sum(terms_to_sum) * (1.0/len(y_test))) ** 0.5\n",
    "\n",
    "# Эту функцию трогать не надо\n",
    "def rlmse_scorer(estimator, X, y):\n",
    "    y_hat = estimator.predict(X)\n",
    "    return rlmse_score(y, y_hat)"
   ]
  },
  {
   "cell_type": "markdown",
   "metadata": {},
   "source": [
    "Так как мы еще не знаем, что такое GridSearch или RandomSearch будем исследовать изменение качества только одного из параметров: alpha\n",
    "\n",
    "Сделаем мы это чуть более хитро чем просто в цикле перебирать разные значения:\n",
    "* Во-первых мы сделаем особую кросс-валидацию, учитывающую время\n",
    "* Так как у нас будет кросс-валидация, то мы сможем посмотреть на \"стабильность\" скора, а не просто на его среднее"
   ]
  },
  {
   "cell_type": "code",
   "execution_count": 154,
   "metadata": {},
   "outputs": [],
   "source": [
    "from sklearn.model_selection import validation_curve"
   ]
  },
  {
   "cell_type": "code",
   "execution_count": 155,
   "metadata": {},
   "outputs": [],
   "source": [
    "X = df_clean.drop(labels = 'count', axis = 1)\n",
    "y = df_clean['count']"
   ]
  },
  {
   "cell_type": "code",
   "execution_count": 156,
   "metadata": {},
   "outputs": [],
   "source": [
    "X_preproc = preproc.fit_transform(X)"
   ]
  },
  {
   "cell_type": "code",
   "execution_count": 157,
   "metadata": {},
   "outputs": [],
   "source": [
    "# Это не обычная кросс-валидация а стратифицированная. №\n",
    "# С ее помощью мы добъемся того, что в обучающем и валидационном фолде будет одна и та же пропорция годов-месяцев-часов\n",
    "# Тут то и понадобится нам year_month_hour\n",
    "# Подробности http://scikit-learn.org/stable/modules/generated/sklearn.model_selection.StratifiedKFold.html#sklearn.model_selection.StratifiedKFold\n",
    "n_folds = 5\n",
    "cv = StratifiedKFold(n_splits=n_folds, shuffle=True, random_state=123)\n",
    "\n",
    "# Переберем 20 значений в интервале от 10^-3 до 10^5\n",
    "alpha_range = np.logspace(-3, 5, 20)\n",
    "\n",
    "param_name = 'alpha'\n",
    "\n",
    "# пишем не просто alpha, потому что у нас pipeline и sklearn должен как-то понимать параметр какого этапа мы перебираем\n",
    "\n",
    "train_scores, valid_scores = validation_curve(regressor, X_preproc, y, param_name = param_name, param_range=alpha_range, \n",
    "                                              cv = cv.split(X_preproc, year_month_hour), scoring=rlmse_scorer)\n",
    "\n",
    "# На выходе мы получим 2 матрицы размера 20 на n_folds\n",
    "# Потому что у нас было 5 фолдов и 20 возможных значений гиперпараметра\n",
    "# А матриц 2, потому что в каждом фолде есть обучающая и валидационная часть"
   ]
  },
  {
   "cell_type": "code",
   "execution_count": 158,
   "metadata": {},
   "outputs": [
    {
     "data": {
      "text/plain": [
       "((20L, 5L), (20L, 5L))"
      ]
     },
     "execution_count": 158,
     "metadata": {},
     "output_type": "execute_result"
    }
   ],
   "source": [
    "train_scores.shape, valid_scores.shape"
   ]
  },
  {
   "cell_type": "code",
   "execution_count": 159,
   "metadata": {},
   "outputs": [
    {
     "data": {
      "text/plain": [
       "array([[1.38241828, 1.38237437, 1.38349524, 1.38656213, 1.37192091],\n",
       "       [1.38254002, 1.38201828, 1.38369265, 1.38689002, 1.37178722],\n",
       "       [1.38342063, 1.38220467, 1.38460405, 1.38726454, 1.37288888],\n",
       "       [1.38348796, 1.38466678, 1.38748831, 1.3868446 , 1.37254958],\n",
       "       [1.38526117, 1.38810615, 1.39227087, 1.38975646, 1.37296672],\n",
       "       [1.39150772, 1.3953607 , 1.3922177 , 1.39504107, 1.38026614],\n",
       "       [1.40172095, 1.40781044, 1.40892105, 1.40725748, 1.39562963],\n",
       "       [1.42623115, 1.43292986, 1.43331883, 1.43505171, 1.42297755],\n",
       "       [1.47560389, 1.48392289, 1.48254428, 1.4860016 , 1.4750399 ],\n",
       "       [1.51911099, 1.52715763, 1.52464092, 1.52891354, 1.52008127],\n",
       "       [1.54674044, 1.55425964, 1.55109044, 1.55570762, 1.54862278],\n",
       "       [1.56007316, 1.56716187, 1.56354293, 1.56821202, 1.56233009],\n",
       "       [1.56466076, 1.5716011 , 1.5679004 , 1.57262635, 1.56694841],\n",
       "       [1.56516688, 1.57207363, 1.5683214 , 1.57304848, 1.56743662],\n",
       "       [1.56516688, 1.57207363, 1.5683214 , 1.57304848, 1.56743662],\n",
       "       [1.56516688, 1.57207363, 1.5683214 , 1.57304848, 1.56743662],\n",
       "       [1.56516688, 1.57207363, 1.5683214 , 1.57304848, 1.56743662],\n",
       "       [1.56516688, 1.57207363, 1.5683214 , 1.57304848, 1.56743662],\n",
       "       [1.56516688, 1.57207363, 1.5683214 , 1.57304848, 1.56743662],\n",
       "       [1.56516688, 1.57207363, 1.5683214 , 1.57304848, 1.56743662]])"
      ]
     },
     "execution_count": 159,
     "metadata": {},
     "output_type": "execute_result"
    }
   ],
   "source": [
    "train_scores"
   ]
  },
  {
   "cell_type": "markdown",
   "metadata": {},
   "source": [
    "### Задание (0.25)\n",
    "\n",
    "Для каждой матрицы сделайте следующее\n",
    "\n",
    "* По каждой строчке посчитайте среднее значение (среднее значение качества по заданного значения параметра)\n",
    "* По каждой строчке посчитайте стандартное отклонение (мера разброса меры качества)\n",
    "\n",
    "Изобразите график, на котором \n",
    "* по оси x отложены значения alpha\n",
    "* по оси y отложены средние значения меры качества (отдельно для обучающей части и валидационной)\n",
    "* с помощью функции plt.fill_between изобразите разброс меры качества в каждой точке (придется чутка почитать документации)"
   ]
  },
  {
   "cell_type": "code",
   "execution_count": 160,
   "metadata": {},
   "outputs": [],
   "source": [
    "train_scores_mean = [np.mean(train_scores[i, :]) for i in range(train_scores.shape[0])]\n",
    "train_scores_std = [np.std(train_scores[i, :]) for i in range(train_scores.shape[0])]\n",
    "valid_scores_mean = [np.mean(valid_scores[i, :]) for i in range(valid_scores.shape[0])]\n",
    "valid_scores_std = [np.std(valid_scores[i, :]) for i in range(valid_scores.shape[0])]"
   ]
  },
  {
   "cell_type": "code",
   "execution_count": 161,
   "metadata": {},
   "outputs": [
    {
     "data": {
      "text/plain": [
       "[0.004957147906563142,\n",
       " 0.005088871516358096,\n",
       " 0.004889577192680605,\n",
       " 0.005424998796546246,\n",
       " 0.006749011060265984,\n",
       " 0.005517763494858546,\n",
       " 0.0049848911308184255,\n",
       " 0.004660164818699417,\n",
       " 0.004469283042880649,\n",
       " 0.0038413884342335383,\n",
       " 0.003352204172709505,\n",
       " 0.003026800076235156,\n",
       " 0.0029612274053909147,\n",
       " 0.002939920396744459,\n",
       " 0.002939920396744459,\n",
       " 0.002939920396744459,\n",
       " 0.002939920396744459,\n",
       " 0.002939920396744459,\n",
       " 0.002939920396744459,\n",
       " 0.002939920396744459]"
      ]
     },
     "execution_count": 161,
     "metadata": {},
     "output_type": "execute_result"
    }
   ],
   "source": [
    "train_scores_std"
   ]
  },
  {
   "cell_type": "code",
   "execution_count": 162,
   "metadata": {},
   "outputs": [
    {
     "data": {
      "image/png": "[encoded data removed]",
      "text/plain": [
       "<Figure size 432x288 with 2 Axes>"
      ]
     },
     "metadata": {},
     "output_type": "display_data"
    }
   ],
   "source": [
    "x = alpha_range\n",
    "\n",
    "y1 = np.array([train_scores_mean[i] - train_scores_std[i] for i in range(len(x))])\n",
    "y2 = np.array([train_scores_mean[i] + train_scores_std[i] for i in range(len(x))])\n",
    "\n",
    "\n",
    "fig, (ax, ax1) = plt.subplots(2, 1, sharex=True)\n",
    "\n",
    "ax.plot(x, y1, color='black');\n",
    "ax1.plot(x, y1, x, y2, color='black');\n",
    "ax.fill_between(x, y1, y2, facecolor='green', interpolate=True);\n",
    "ax1.fill_between(x, y1, y2, facecolor='red', interpolate=True);"
   ]
  },
  {
   "cell_type": "code",
   "execution_count": 163,
   "metadata": {},
   "outputs": [
    {
     "data": {
      "text/plain": [
       "array([1.37639704, 1.37629677, 1.37718698, 1.37758245, 1.37892326,\n",
       "       1.3853609 , 1.39928302, 1.42544165, 1.47615323, 1.52013948,\n",
       "       1.54793198, 1.56123721, 1.56578618, 1.56626948, 1.56626948,\n",
       "       1.56626948, 1.56626948, 1.56626948, 1.56626948, 1.56626948])"
      ]
     },
     "execution_count": 163,
     "metadata": {},
     "output_type": "execute_result"
    }
   ],
   "source": [
    "y1"
   ]
  },
  {
   "cell_type": "code",
   "execution_count": 164,
   "metadata": {},
   "outputs": [
    {
     "data": {
      "text/plain": [
       "array([1.00000000e-03, 2.63665090e-03, 6.95192796e-03, 1.83298071e-02,\n",
       "       4.83293024e-02, 1.27427499e-01, 3.35981829e-01, 8.85866790e-01,\n",
       "       2.33572147e+00, 6.15848211e+00, 1.62377674e+01, 4.28133240e+01,\n",
       "       1.12883789e+02, 2.97635144e+02, 7.84759970e+02, 2.06913808e+03,\n",
       "       5.45559478e+03, 1.43844989e+04, 3.79269019e+04, 1.00000000e+05])"
      ]
     },
     "execution_count": 164,
     "metadata": {},
     "output_type": "execute_result"
    }
   ],
   "source": [
    "x"
   ]
  },
  {
   "cell_type": "code",
   "execution_count": 165,
   "metadata": {},
   "outputs": [
    {
     "data": {
      "text/plain": [
       "[0.004957147906563142,\n",
       " 0.005088871516358096,\n",
       " 0.004889577192680605,\n",
       " 0.005424998796546246,\n",
       " 0.006749011060265984,\n",
       " 0.005517763494858546,\n",
       " 0.0049848911308184255,\n",
       " 0.004660164818699417,\n",
       " 0.004469283042880649,\n",
       " 0.0038413884342335383,\n",
       " 0.003352204172709505,\n",
       " 0.003026800076235156,\n",
       " 0.0029612274053909147,\n",
       " 0.002939920396744459,\n",
       " 0.002939920396744459,\n",
       " 0.002939920396744459,\n",
       " 0.002939920396744459,\n",
       " 0.002939920396744459,\n",
       " 0.002939920396744459,\n",
       " 0.002939920396744459]"
      ]
     },
     "execution_count": 165,
     "metadata": {},
     "output_type": "execute_result"
    }
   ],
   "source": [
    "[train_scores_std[i] for i in range(len(alpha_range))]"
   ]
  },
  {
   "cell_type": "code",
   "execution_count": 166,
   "metadata": {},
   "outputs": [
    {
     "data": {
      "text/plain": [
       "[1.381354183197204,\n",
       " 1.3813856366251756,\n",
       " 1.3820765533992065,\n",
       " 1.3830074464030786,\n",
       " 1.3856722719245873,\n",
       " 1.390878666133688,\n",
       " 1.4042679097997937,\n",
       " 1.4301018184839833,\n",
       " 1.4806225120353615,\n",
       " 1.5239808700095012,\n",
       " 1.5512841836672142,\n",
       " 1.564264014261212,\n",
       " 1.568747403608882,\n",
       " 1.569209401690372,\n",
       " 1.569209401690372,\n",
       " 1.569209401690372,\n",
       " 1.569209401690372,\n",
       " 1.569209401690372,\n",
       " 1.569209401690372,\n",
       " 1.569209401690372]"
      ]
     },
     "execution_count": 166,
     "metadata": {},
     "output_type": "execute_result"
    }
   ],
   "source": [
    "[train_scores_mean[i] for i in range(len(alpha_range))]"
   ]
  }
 ],
 "metadata": {
  "anaconda-cloud": {},
  "kernelspec": {
   "display_name": "Python 2",
   "language": "python",
   "name": "python2"
  },
  "language_info": {
   "codemirror_mode": {
    "name": "ipython",
    "version": 2
   },
   "file_extension": ".py",
   "mimetype": "text/x-python",
   "name": "python",
   "nbconvert_exporter": "python",
   "pygments_lexer": "ipython2",
   "version": "2.7.15"
  },
  "nav_menu": {},
  "toc": {
   "colors": {
    "hover_highlight": "#DAA520",
    "navigate_num": "#000000",
    "navigate_text": "#333333",
    "running_highlight": "#FF0000",
    "selected_highlight": "#FFD700",
    "sidebar_border": "#EEEEEE",
    "wrapper_background": "#FFFFFF"
   },
   "moveMenuLeft": true,
   "nav_menu": {
    "height": "272px",
    "width": "253px"
   },
   "navigate_menu": true,
   "number_sections": false,
   "sideBar": true,
   "threshold": 4,
   "toc_cell": true,
   "toc_section_display": "block",
   "toc_window_display": true,
   "widenNotebook": false
  }
 },
 "nbformat": 4,
 "nbformat_minor": 1
}
